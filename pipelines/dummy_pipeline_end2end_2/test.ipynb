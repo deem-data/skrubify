{
 "cells": [
  {
   "cell_type": "code",
   "execution_count": 1,
   "id": "initial_id",
   "metadata": {
    "collapsed": true,
    "ExecuteTime": {
     "end_time": "2025-10-01T19:36:06.875538Z",
     "start_time": "2025-10-01T19:36:05.278944Z"
    }
   },
   "outputs": [],
   "source": [
    "import skrub\n",
    "import pandas as pd\n",
    "from sklearn.preprocessing import OrdinalEncoder, OneHotEncoder"
   ]
  },
  {
   "cell_type": "code",
   "outputs": [],
   "source": [
    "df = pd.read_csv('../cat-in-the-dat-ii/input/train.csv')"
   ],
   "metadata": {
    "collapsed": false,
    "ExecuteTime": {
     "end_time": "2025-10-01T19:36:07.568568Z",
     "start_time": "2025-10-01T19:36:06.876415Z"
    }
   },
   "id": "d04add0ed393ce71",
   "execution_count": 2
  },
  {
   "cell_type": "code",
   "outputs": [],
   "source": [
    "data = skrub.var(\"data\", df)\n",
    "X = data.drop([\"target\",\"id\"], axis=1).skb.mark_as_X()\n",
    "y = data[\"target\"].skb.mark_as_y()"
   ],
   "metadata": {
    "collapsed": false,
    "ExecuteTime": {
     "end_time": "2025-10-01T19:36:07.621237Z",
     "start_time": "2025-10-01T19:36:07.569216Z"
    }
   },
   "id": "52de2923899beda3",
   "execution_count": 3
  },
  {
   "cell_type": "code",
   "outputs": [],
   "source": [
    "bin_ord_selector = skrub.selectors.filter_names(lambda name: \"bin\" in name or \"ord\" in name)\n",
    "low_cardinality_nom_selector = skrub.selectors.filter(lambda col: \"nom\" in col.name and col.nunique() < 10)\n",
    "high_cardinality_nom_selector = skrub.selectors.filter(lambda col: \"nom\" in col.name and col.nunique() >= 10)"
   ],
   "metadata": {
    "collapsed": false,
    "ExecuteTime": {
     "end_time": "2025-10-01T19:36:07.624279Z",
     "start_time": "2025-10-01T19:36:07.622381Z"
    }
   },
   "id": "b313bd4f7e9dc183",
   "execution_count": 4
  },
  {
   "cell_type": "code",
   "outputs": [],
   "source": [
    "ordinal_encoder = OrdinalEncoder()\n",
    "one_hot_encoder = OneHotEncoder(handle_unknown=\"ignore\", sparse_output=False)"
   ],
   "metadata": {
    "collapsed": false,
    "ExecuteTime": {
     "end_time": "2025-10-01T19:36:07.626469Z",
     "start_time": "2025-10-01T19:36:07.624900Z"
    }
   },
   "id": "176c83b7dc480318",
   "execution_count": 5
  },
  {
   "cell_type": "code",
   "outputs": [],
   "source": [
    "vectorizer = skrub.TableVectorizer(\n",
    "    specific_transformers=[\n",
    "        (ordinal_encoder, bin_ord_selector),\n",
    "        (one_hot_encoder, low_cardinality_nom_selector),\n",
    "        (\"passthrough\", high_cardinality_nom_selector)\n",
    "    ],\n",
    ")"
   ],
   "metadata": {
    "collapsed": false,
    "ExecuteTime": {
     "end_time": "2025-10-01T19:36:07.920502Z",
     "start_time": "2025-10-01T19:36:07.918660Z"
    }
   },
   "id": "e4f8150f627e6649",
   "execution_count": 6
  },
  {
   "cell_type": "code",
   "outputs": [],
   "source": [
    "vec_X = X.skb.apply(vectorizer)\n",
    "actual_vec_X = vec_X.skb.preview()"
   ],
   "metadata": {
    "collapsed": false,
    "ExecuteTime": {
     "end_time": "2025-10-01T19:37:14.225082Z",
     "start_time": "2025-10-01T19:37:10.476631Z"
    }
   },
   "id": "36d9529e1e36ed00",
   "execution_count": 10
  },
  {
   "cell_type": "code",
   "outputs": [],
   "source": [
    "bin_ord_cols = X.skb.apply_func(bin_ord_selector.expand)\n",
    "low_cardinality_nom_cols = X.skb.apply_func(low_cardinality_nom_selector.expand)\n",
    "high_cardinality_nom_cols = X.skb.apply_func(high_cardinality_nom_selector.expand)"
   ],
   "metadata": {
    "collapsed": false,
    "ExecuteTime": {
     "end_time": "2025-10-01T19:37:31.040585Z",
     "start_time": "2025-10-01T19:37:30.773208Z"
    }
   },
   "id": "8dfca7bff96f78db",
   "execution_count": 11
  },
  {
   "cell_type": "code",
   "outputs": [],
   "source": [
    "vectorizer2 = skrub.TableVectorizer(\n",
    "    specific_transformers=[\n",
    "        (ordinal_encoder, bin_ord_cols),\n",
    "        (one_hot_encoder, low_cardinality_nom_cols),\n",
    "        (\"passthrough\", high_cardinality_nom_cols)\n",
    "    ],\n",
    ")"
   ],
   "metadata": {
    "collapsed": false,
    "ExecuteTime": {
     "end_time": "2025-10-01T19:37:33.010135Z",
     "start_time": "2025-10-01T19:37:33.006488Z"
    }
   },
   "id": "e67c304e989d129a",
   "execution_count": 12
  },
  {
   "cell_type": "code",
   "outputs": [],
   "source": [
    "vec_X2 = X.skb.apply(vectorizer2)\n",
    "actual_vec_X2 = vec_X2.skb.preview()"
   ],
   "metadata": {
    "collapsed": false,
    "ExecuteTime": {
     "end_time": "2025-10-01T19:37:46.843323Z",
     "start_time": "2025-10-01T19:37:42.980098Z"
    }
   },
   "id": "e8af5850b7df3914",
   "execution_count": 13
  },
  {
   "cell_type": "code",
   "outputs": [
    {
     "data": {
      "text/plain": "(pandas.core.frame.DataFrame, pandas.core.frame.DataFrame)"
     },
     "execution_count": 15,
     "metadata": {},
     "output_type": "execute_result"
    }
   ],
   "source": [
    "type(actual_vec_X2), type(actual_vec_X)"
   ],
   "metadata": {
    "collapsed": false,
    "ExecuteTime": {
     "end_time": "2025-10-01T19:38:29.835440Z",
     "start_time": "2025-10-01T19:38:29.831990Z"
    }
   },
   "id": "8e63df8f155623a1",
   "execution_count": 15
  },
  {
   "cell_type": "code",
   "outputs": [
    {
     "data": {
      "text/plain": "   bin_0  bin_1  bin_2  bin_3  bin_4  nom_0_Blue  nom_0_Green  nom_0_Red  \\\n0    0.0    0.0    0.0    0.0    0.0         0.0          0.0        1.0   \n1    1.0    1.0    0.0    0.0    1.0         0.0          0.0        1.0   \n2    0.0    1.0    0.0    0.0    0.0         0.0          0.0        1.0   \n3    NaN    0.0    0.0    0.0    0.0         0.0          0.0        1.0   \n4    0.0    NaN    0.0    1.0    0.0         0.0          0.0        1.0   \n\n   nom_0_nan  nom_1_Circle  ...      nom_8      nom_9  ord_0  ord_1  ord_2  \\\n0        0.0           0.0  ...  0256c7a4b  02e7c8990    2.0    0.0    3.0   \n1        0.0           0.0  ...  52ead350c  f37df64af    2.0    2.0    5.0   \n2        0.0           0.0  ...  745b909d1        NaN    2.0    NaN    2.0   \n3        0.0           1.0  ...  bdaa56dd1  f9d456e57    0.0    4.0    4.0   \n4        0.0           0.0  ...        NaN  c5361037c    2.0    2.0    1.0   \n\n   ord_3  ord_4  ord_5  day  month  \n0    2.0   20.0   56.0  6.0    3.0  \n1    4.0   23.0  150.0  7.0    7.0  \n2   13.0   15.0  105.0  5.0    9.0  \n3    0.0    2.0    NaN  3.0    3.0  \n4    7.0    2.0   50.0  5.0   12.0  \n\n[5 rows x 48 columns]",
      "text/html": "<div>\n<style scoped>\n    .dataframe tbody tr th:only-of-type {\n        vertical-align: middle;\n    }\n\n    .dataframe tbody tr th {\n        vertical-align: top;\n    }\n\n    .dataframe thead th {\n        text-align: right;\n    }\n</style>\n<table border=\"1\" class=\"dataframe\">\n  <thead>\n    <tr style=\"text-align: right;\">\n      <th></th>\n      <th>bin_0</th>\n      <th>bin_1</th>\n      <th>bin_2</th>\n      <th>bin_3</th>\n      <th>bin_4</th>\n      <th>nom_0_Blue</th>\n      <th>nom_0_Green</th>\n      <th>nom_0_Red</th>\n      <th>nom_0_nan</th>\n      <th>nom_1_Circle</th>\n      <th>...</th>\n      <th>nom_8</th>\n      <th>nom_9</th>\n      <th>ord_0</th>\n      <th>ord_1</th>\n      <th>ord_2</th>\n      <th>ord_3</th>\n      <th>ord_4</th>\n      <th>ord_5</th>\n      <th>day</th>\n      <th>month</th>\n    </tr>\n  </thead>\n  <tbody>\n    <tr>\n      <th>0</th>\n      <td>0.0</td>\n      <td>0.0</td>\n      <td>0.0</td>\n      <td>0.0</td>\n      <td>0.0</td>\n      <td>0.0</td>\n      <td>0.0</td>\n      <td>1.0</td>\n      <td>0.0</td>\n      <td>0.0</td>\n      <td>...</td>\n      <td>0256c7a4b</td>\n      <td>02e7c8990</td>\n      <td>2.0</td>\n      <td>0.0</td>\n      <td>3.0</td>\n      <td>2.0</td>\n      <td>20.0</td>\n      <td>56.0</td>\n      <td>6.0</td>\n      <td>3.0</td>\n    </tr>\n    <tr>\n      <th>1</th>\n      <td>1.0</td>\n      <td>1.0</td>\n      <td>0.0</td>\n      <td>0.0</td>\n      <td>1.0</td>\n      <td>0.0</td>\n      <td>0.0</td>\n      <td>1.0</td>\n      <td>0.0</td>\n      <td>0.0</td>\n      <td>...</td>\n      <td>52ead350c</td>\n      <td>f37df64af</td>\n      <td>2.0</td>\n      <td>2.0</td>\n      <td>5.0</td>\n      <td>4.0</td>\n      <td>23.0</td>\n      <td>150.0</td>\n      <td>7.0</td>\n      <td>7.0</td>\n    </tr>\n    <tr>\n      <th>2</th>\n      <td>0.0</td>\n      <td>1.0</td>\n      <td>0.0</td>\n      <td>0.0</td>\n      <td>0.0</td>\n      <td>0.0</td>\n      <td>0.0</td>\n      <td>1.0</td>\n      <td>0.0</td>\n      <td>0.0</td>\n      <td>...</td>\n      <td>745b909d1</td>\n      <td>NaN</td>\n      <td>2.0</td>\n      <td>NaN</td>\n      <td>2.0</td>\n      <td>13.0</td>\n      <td>15.0</td>\n      <td>105.0</td>\n      <td>5.0</td>\n      <td>9.0</td>\n    </tr>\n    <tr>\n      <th>3</th>\n      <td>NaN</td>\n      <td>0.0</td>\n      <td>0.0</td>\n      <td>0.0</td>\n      <td>0.0</td>\n      <td>0.0</td>\n      <td>0.0</td>\n      <td>1.0</td>\n      <td>0.0</td>\n      <td>1.0</td>\n      <td>...</td>\n      <td>bdaa56dd1</td>\n      <td>f9d456e57</td>\n      <td>0.0</td>\n      <td>4.0</td>\n      <td>4.0</td>\n      <td>0.0</td>\n      <td>2.0</td>\n      <td>NaN</td>\n      <td>3.0</td>\n      <td>3.0</td>\n    </tr>\n    <tr>\n      <th>4</th>\n      <td>0.0</td>\n      <td>NaN</td>\n      <td>0.0</td>\n      <td>1.0</td>\n      <td>0.0</td>\n      <td>0.0</td>\n      <td>0.0</td>\n      <td>1.0</td>\n      <td>0.0</td>\n      <td>0.0</td>\n      <td>...</td>\n      <td>NaN</td>\n      <td>c5361037c</td>\n      <td>2.0</td>\n      <td>2.0</td>\n      <td>1.0</td>\n      <td>7.0</td>\n      <td>2.0</td>\n      <td>50.0</td>\n      <td>5.0</td>\n      <td>12.0</td>\n    </tr>\n  </tbody>\n</table>\n<p>5 rows × 48 columns</p>\n</div>"
     },
     "execution_count": 18,
     "metadata": {},
     "output_type": "execute_result"
    }
   ],
   "source": [
    "actual_vec_X.head()"
   ],
   "metadata": {
    "collapsed": false,
    "ExecuteTime": {
     "end_time": "2025-10-01T19:39:07.746088Z",
     "start_time": "2025-10-01T19:39:07.736507Z"
    }
   },
   "id": "d69a22a2b15c7bdd",
   "execution_count": 18
  },
  {
   "cell_type": "code",
   "outputs": [
    {
     "ename": "RuntimeError",
     "evalue": "Evaluation of 'apply()' failed.\nYou can see the full traceback above. The error message was:\nValueError: 'specific_transformers' must be a list of (transformer, list of columns) pairs. Got (OrdinalEncoder(), filter_names(<lambda>)) at index 0.",
     "output_type": "error",
     "traceback": [
      "\u001B[31m---------------------------------------------------------------------------\u001B[39m",
      "\u001B[31mAssertionError\u001B[39m                            Traceback (most recent call last)",
      "\u001B[36mFile \u001B[39m\u001B[32m~/PycharmProjects/skrubify/.venv/lib/python3.13/site-packages/skrub/_table_vectorizer.py:828\u001B[39m, in \u001B[36mTableVectorizer._check_specific_columns\u001B[39m\u001B[34m(self)\u001B[39m\n\u001B[32m    827\u001B[39m     _, cols = config\n\u001B[32m--> \u001B[39m\u001B[32m828\u001B[39m     \u001B[38;5;28;01massert\u001B[39;00m \u001B[38;5;28misinstance\u001B[39m(cols, Iterable) \u001B[38;5;129;01mand\u001B[39;00m \u001B[38;5;129;01mnot\u001B[39;00m \u001B[38;5;28misinstance\u001B[39m(cols, \u001B[38;5;28mstr\u001B[39m)\n\u001B[32m    829\u001B[39m \u001B[38;5;28;01mexcept\u001B[39;00m (\u001B[38;5;167;01mValueError\u001B[39;00m, \u001B[38;5;167;01mTypeError\u001B[39;00m, \u001B[38;5;167;01mAssertionError\u001B[39;00m):\n",
      "\u001B[31mAssertionError\u001B[39m: ",
      "\nDuring handling of the above exception, another exception occurred:\n",
      "\u001B[31mValueError\u001B[39m                                Traceback (most recent call last)",
      "\u001B[36mFile \u001B[39m\u001B[32m~/PycharmProjects/skrubify/.venv/lib/python3.13/site-packages/skrub/_data_ops/_data_ops.py:338\u001B[39m, in \u001B[36mcheck_data_op.<locals>.checked_call\u001B[39m\u001B[34m(*args, **kwargs)\u001B[39m\n\u001B[32m    337\u001B[39m \u001B[38;5;28;01mtry\u001B[39;00m:\n\u001B[32m--> \u001B[39m\u001B[32m338\u001B[39m     \u001B[43mevaluate\u001B[49m\u001B[43m(\u001B[49m\u001B[43mdata_op\u001B[49m\u001B[43m,\u001B[49m\u001B[43m \u001B[49m\u001B[43mmode\u001B[49m\u001B[43m=\u001B[49m\u001B[33;43m\"\u001B[39;49m\u001B[33;43mpreview\u001B[39;49m\u001B[33;43m\"\u001B[39;49m\u001B[43m,\u001B[49m\u001B[43m \u001B[49m\u001B[43menvironment\u001B[49m\u001B[43m=\u001B[49m\u001B[38;5;28;43;01mNone\u001B[39;49;00m\u001B[43m)\u001B[49m\n\u001B[32m    339\u001B[39m \u001B[38;5;28;01mexcept\u001B[39;00m UninitializedVariable:\n",
      "\u001B[36mFile \u001B[39m\u001B[32m~/PycharmProjects/skrubify/.venv/lib/python3.13/site-packages/skrub/_data_ops/_evaluation.py:396\u001B[39m, in \u001B[36mevaluate\u001B[39m\u001B[34m(data_op, mode, environment, clear, callbacks)\u001B[39m\n\u001B[32m    393\u001B[39m \u001B[38;5;28;01mtry\u001B[39;00m:\n\u001B[32m    394\u001B[39m     result = \u001B[43m_Evaluator\u001B[49m\u001B[43m(\u001B[49m\n\u001B[32m    395\u001B[39m \u001B[43m        \u001B[49m\u001B[43mmode\u001B[49m\u001B[43m=\u001B[49m\u001B[43mmode\u001B[49m\u001B[43m,\u001B[49m\u001B[43m \u001B[49m\u001B[43menvironment\u001B[49m\u001B[43m=\u001B[49m\u001B[43menvironment\u001B[49m\u001B[43m,\u001B[49m\u001B[43m \u001B[49m\u001B[43mcallbacks\u001B[49m\u001B[43m=\u001B[49m\u001B[43mcallbacks\u001B[49m\n\u001B[32m--> \u001B[39m\u001B[32m396\u001B[39m \u001B[43m    \u001B[49m\u001B[43m)\u001B[49m\u001B[43m.\u001B[49m\u001B[43mrun\u001B[49m\u001B[43m(\u001B[49m\u001B[43mdata_op\u001B[49m\u001B[43m)\u001B[49m\n\u001B[32m    397\u001B[39m     \u001B[38;5;28;01mreturn\u001B[39;00m data_op \u001B[38;5;28;01mif\u001B[39;00m requested_mode == \u001B[33m\"\u001B[39m\u001B[33mfit\u001B[39m\u001B[33m\"\u001B[39m \u001B[38;5;28;01melse\u001B[39;00m result\n",
      "\u001B[36mFile \u001B[39m\u001B[32m~/PycharmProjects/skrubify/.venv/lib/python3.13/site-packages/skrub/_data_ops/_evaluation.py:231\u001B[39m, in \u001B[36m_Evaluator.run\u001B[39m\u001B[34m(self, data_op)\u001B[39m\n\u001B[32m    230\u001B[39m \u001B[38;5;28mself\u001B[39m._data_op = data_op\n\u001B[32m--> \u001B[39m\u001B[32m231\u001B[39m \u001B[38;5;28;01mreturn\u001B[39;00m \u001B[38;5;28;43msuper\u001B[39;49m\u001B[43m(\u001B[49m\u001B[43m)\u001B[49m\u001B[43m.\u001B[49m\u001B[43mrun\u001B[49m\u001B[43m(\u001B[49m\u001B[43mdata_op\u001B[49m\u001B[43m)\u001B[49m\n",
      "\u001B[36mFile \u001B[39m\u001B[32m~/PycharmProjects/skrubify/.venv/lib/python3.13/site-packages/skrub/_data_ops/_evaluation.py:112\u001B[39m, in \u001B[36m_DataOpTraversal.run\u001B[39m\u001B[34m(self, data_op)\u001B[39m\n\u001B[32m    111\u001B[39m \u001B[38;5;28;01mif\u001B[39;00m \u001B[38;5;28misinstance\u001B[39m(top, _Computation):\n\u001B[32m--> \u001B[39m\u001B[32m112\u001B[39m     new_top = \u001B[43mtop\u001B[49m\u001B[43m.\u001B[49m\u001B[43mgenerator\u001B[49m\u001B[43m.\u001B[49m\u001B[43msend\u001B[49m\u001B[43m(\u001B[49m\u001B[43mlast_result\u001B[49m\u001B[43m)\u001B[49m\n\u001B[32m    113\u001B[39m     \u001B[38;5;28;01mif\u001B[39;00m \u001B[38;5;28mid\u001B[39m(new_top) \u001B[38;5;129;01min\u001B[39;00m {\n\u001B[32m    114\u001B[39m         c.target_id \u001B[38;5;28;01mfor\u001B[39;00m c \u001B[38;5;129;01min\u001B[39;00m stack \u001B[38;5;28;01mif\u001B[39;00m \u001B[38;5;28misinstance\u001B[39m(c, _Computation)\n\u001B[32m    115\u001B[39m     }:\n\u001B[32m   (...)\u001B[39m\u001B[32m    119\u001B[39m         \u001B[38;5;66;03m# for handling such cases we raise an exception to\u001B[39;00m\n\u001B[32m    120\u001B[39m         \u001B[38;5;66;03m# avoid an infinite loop.\u001B[39;00m\n",
      "\u001B[36mFile \u001B[39m\u001B[32m~/PycharmProjects/skrubify/.venv/lib/python3.13/site-packages/skrub/_data_ops/_evaluation.py:263\u001B[39m, in \u001B[36m_Evaluator.handle_data_op\u001B[39m\u001B[34m(self, data_op)\u001B[39m\n\u001B[32m    262\u001B[39m     \u001B[38;5;28;01mpass\u001B[39;00m\n\u001B[32m--> \u001B[39m\u001B[32m263\u001B[39m result = \u001B[38;5;28;01myield from\u001B[39;00m \u001B[38;5;28mself\u001B[39m._eval_data_op(data_op)\n\u001B[32m    264\u001B[39m \u001B[38;5;28mself\u001B[39m._store(data_op, result)\n",
      "\u001B[36mFile \u001B[39m\u001B[32m~/PycharmProjects/skrubify/.venv/lib/python3.13/site-packages/skrub/_data_ops/_evaluation.py:274\u001B[39m, in \u001B[36m_Evaluator._eval_data_op\u001B[39m\u001B[34m(self, data_op)\u001B[39m\n\u001B[32m    272\u001B[39m \u001B[38;5;28;01mif\u001B[39;00m \u001B[38;5;28mhasattr\u001B[39m(impl, \u001B[33m\"\u001B[39m\u001B[33meval\u001B[39m\u001B[33m\"\u001B[39m):\n\u001B[32m    273\u001B[39m     \u001B[38;5;28;01mreturn\u001B[39;00m (\n\u001B[32m--> \u001B[39m\u001B[32m274\u001B[39m         \u001B[38;5;28;01myield from\u001B[39;00m impl.eval(mode=\u001B[38;5;28mself\u001B[39m.mode, environment=\u001B[38;5;28mself\u001B[39m.environment)\n\u001B[32m    275\u001B[39m     )\n\u001B[32m    276\u001B[39m \u001B[38;5;28;01mreturn\u001B[39;00m (\u001B[38;5;28;01myield from\u001B[39;00m \u001B[38;5;28msuper\u001B[39m().handle_data_op(data_op))\n",
      "\u001B[36mFile \u001B[39m\u001B[32m~/PycharmProjects/skrubify/.venv/lib/python3.13/site-packages/skrub/_data_ops/_data_ops.py:1289\u001B[39m, in \u001B[36mApply.eval\u001B[39m\u001B[34m(self, mode, environment)\u001B[39m\n\u001B[32m   1288\u001B[39m     y_arg = ()\n\u001B[32m-> \u001B[39m\u001B[32m1289\u001B[39m \u001B[38;5;28;01mreturn\u001B[39;00m \u001B[38;5;28;43mgetattr\u001B[39;49m\u001B[43m(\u001B[49m\u001B[38;5;28;43mself\u001B[39;49m\u001B[43m.\u001B[49m\u001B[43mestimator_\u001B[49m\u001B[43m,\u001B[49m\u001B[43m \u001B[49m\u001B[43mmethod_name\u001B[49m\u001B[43m)\u001B[49m\u001B[43m(\u001B[49m\u001B[43mX\u001B[49m\u001B[43m,\u001B[49m\u001B[43m \u001B[49m\u001B[43m*\u001B[49m\u001B[43my_arg\u001B[49m\u001B[43m)\u001B[49m\n",
      "\u001B[36mFile \u001B[39m\u001B[32m~/PycharmProjects/skrubify/.venv/lib/python3.13/site-packages/sklearn/utils/_set_output.py:316\u001B[39m, in \u001B[36m_wrap_method_output.<locals>.wrapped\u001B[39m\u001B[34m(self, X, *args, **kwargs)\u001B[39m\n\u001B[32m    314\u001B[39m \u001B[38;5;129m@wraps\u001B[39m(f)\n\u001B[32m    315\u001B[39m \u001B[38;5;28;01mdef\u001B[39;00m\u001B[38;5;250m \u001B[39m\u001B[34mwrapped\u001B[39m(\u001B[38;5;28mself\u001B[39m, X, *args, **kwargs):\n\u001B[32m--> \u001B[39m\u001B[32m316\u001B[39m     data_to_wrap = \u001B[43mf\u001B[49m\u001B[43m(\u001B[49m\u001B[38;5;28;43mself\u001B[39;49m\u001B[43m,\u001B[49m\u001B[43m \u001B[49m\u001B[43mX\u001B[49m\u001B[43m,\u001B[49m\u001B[43m \u001B[49m\u001B[43m*\u001B[49m\u001B[43margs\u001B[49m\u001B[43m,\u001B[49m\u001B[43m \u001B[49m\u001B[43m*\u001B[49m\u001B[43m*\u001B[49m\u001B[43mkwargs\u001B[49m\u001B[43m)\u001B[49m\n\u001B[32m    317\u001B[39m     \u001B[38;5;28;01mif\u001B[39;00m \u001B[38;5;28misinstance\u001B[39m(data_to_wrap, \u001B[38;5;28mtuple\u001B[39m):\n\u001B[32m    318\u001B[39m         \u001B[38;5;66;03m# only wrap the first output for cross decomposition\u001B[39;00m\n",
      "\u001B[36mFile \u001B[39m\u001B[32m~/PycharmProjects/skrubify/.venv/lib/python3.13/site-packages/skrub/_apply_to_frame.py:186\u001B[39m, in \u001B[36mApplyToFrame.fit_transform\u001B[39m\u001B[34m(self, X, y)\u001B[39m\n\u001B[32m    185\u001B[39m _utils.set_output(\u001B[38;5;28mself\u001B[39m.transformer_, X)\n\u001B[32m--> \u001B[39m\u001B[32m186\u001B[39m transformed = \u001B[38;5;28;43mself\u001B[39;49m\u001B[43m.\u001B[49m\u001B[43mtransformer_\u001B[49m\u001B[43m.\u001B[49m\u001B[43mfit_transform\u001B[49m\u001B[43m(\u001B[49m\u001B[43mto_transform\u001B[49m\u001B[43m,\u001B[49m\u001B[43m \u001B[49m\u001B[43my\u001B[49m\u001B[43m)\u001B[49m\n\u001B[32m    187\u001B[39m transformed = _utils.check_output(\n\u001B[32m    188\u001B[39m     \u001B[38;5;28mself\u001B[39m.transformer_, to_transform, transformed, allow_column_list=\u001B[38;5;28;01mFalse\u001B[39;00m\n\u001B[32m    189\u001B[39m )\n",
      "\u001B[36mFile \u001B[39m\u001B[32m~/PycharmProjects/skrubify/.venv/lib/python3.13/site-packages/sklearn/utils/_set_output.py:316\u001B[39m, in \u001B[36m_wrap_method_output.<locals>.wrapped\u001B[39m\u001B[34m(self, X, *args, **kwargs)\u001B[39m\n\u001B[32m    314\u001B[39m \u001B[38;5;129m@wraps\u001B[39m(f)\n\u001B[32m    315\u001B[39m \u001B[38;5;28;01mdef\u001B[39;00m\u001B[38;5;250m \u001B[39m\u001B[34mwrapped\u001B[39m(\u001B[38;5;28mself\u001B[39m, X, *args, **kwargs):\n\u001B[32m--> \u001B[39m\u001B[32m316\u001B[39m     data_to_wrap = \u001B[43mf\u001B[49m\u001B[43m(\u001B[49m\u001B[38;5;28;43mself\u001B[39;49m\u001B[43m,\u001B[49m\u001B[43m \u001B[49m\u001B[43mX\u001B[49m\u001B[43m,\u001B[49m\u001B[43m \u001B[49m\u001B[43m*\u001B[49m\u001B[43margs\u001B[49m\u001B[43m,\u001B[49m\u001B[43m \u001B[49m\u001B[43m*\u001B[49m\u001B[43m*\u001B[49m\u001B[43mkwargs\u001B[49m\u001B[43m)\u001B[49m\n\u001B[32m    317\u001B[39m     \u001B[38;5;28;01mif\u001B[39;00m \u001B[38;5;28misinstance\u001B[39m(data_to_wrap, \u001B[38;5;28mtuple\u001B[39m):\n\u001B[32m    318\u001B[39m         \u001B[38;5;66;03m# only wrap the first output for cross decomposition\u001B[39;00m\n",
      "\u001B[36mFile \u001B[39m\u001B[32m~/PycharmProjects/skrubify/.venv/lib/python3.13/site-packages/skrub/_table_vectorizer.py:794\u001B[39m, in \u001B[36mTableVectorizer.fit_transform\u001B[39m\u001B[34m(self, X, y)\u001B[39m\n\u001B[32m    777\u001B[39m \u001B[38;5;250m\u001B[39m\u001B[33;03m\"\"\"Fit transformer and transform dataframe.\u001B[39;00m\n\u001B[32m    778\u001B[39m \n\u001B[32m    779\u001B[39m \u001B[33;03mParameters\u001B[39;00m\n\u001B[32m   (...)\u001B[39m\u001B[32m    792\u001B[39m \u001B[33;03m    The transformed input.\u001B[39;00m\n\u001B[32m    793\u001B[39m \u001B[33;03m\"\"\"\u001B[39;00m\n\u001B[32m--> \u001B[39m\u001B[32m794\u001B[39m \u001B[38;5;28;43mself\u001B[39;49m\u001B[43m.\u001B[49m\u001B[43m_check_specific_columns\u001B[49m\u001B[43m(\u001B[49m\u001B[43m)\u001B[49m\n\u001B[32m    795\u001B[39m \u001B[38;5;28mself\u001B[39m._make_pipeline()\n",
      "\u001B[36mFile \u001B[39m\u001B[32m~/PycharmProjects/skrubify/.venv/lib/python3.13/site-packages/skrub/_table_vectorizer.py:830\u001B[39m, in \u001B[36mTableVectorizer._check_specific_columns\u001B[39m\u001B[34m(self)\u001B[39m\n\u001B[32m    829\u001B[39m \u001B[38;5;28;01mexcept\u001B[39;00m (\u001B[38;5;167;01mValueError\u001B[39;00m, \u001B[38;5;167;01mTypeError\u001B[39;00m, \u001B[38;5;167;01mAssertionError\u001B[39;00m):\n\u001B[32m--> \u001B[39m\u001B[32m830\u001B[39m     \u001B[38;5;28;01mraise\u001B[39;00m \u001B[38;5;167;01mValueError\u001B[39;00m(\n\u001B[32m    831\u001B[39m         \u001B[33m\"\u001B[39m\u001B[33m'\u001B[39m\u001B[33mspecific_transformers\u001B[39m\u001B[33m'\u001B[39m\u001B[33m must be a list of \u001B[39m\u001B[33m\"\u001B[39m\n\u001B[32m    832\u001B[39m         \u001B[33m\"\u001B[39m\u001B[33m(transformer, list of columns) pairs. \u001B[39m\u001B[33m\"\u001B[39m\n\u001B[32m    833\u001B[39m         \u001B[33mf\u001B[39m\u001B[33m\"\u001B[39m\u001B[33mGot \u001B[39m\u001B[38;5;132;01m{\u001B[39;00mconfig\u001B[38;5;132;01m!r}\u001B[39;00m\u001B[33m at index \u001B[39m\u001B[38;5;132;01m{\u001B[39;00mi\u001B[38;5;132;01m}\u001B[39;00m\u001B[33m.\u001B[39m\u001B[33m\"\u001B[39m\n\u001B[32m    834\u001B[39m     )\n\u001B[32m    835\u001B[39m \u001B[38;5;28;01mfor\u001B[39;00m c \u001B[38;5;129;01min\u001B[39;00m cols:\n",
      "\u001B[31mValueError\u001B[39m: 'specific_transformers' must be a list of (transformer, list of columns) pairs. Got (OrdinalEncoder(), filter_names(<lambda>)) at index 0.",
      "\nThe above exception was the direct cause of the following exception:\n",
      "\u001B[31mRuntimeError\u001B[39m                              Traceback (most recent call last)",
      "\u001B[36mCell\u001B[39m\u001B[36m \u001B[39m\u001B[32mIn[46]\u001B[39m\u001B[32m, line 1\u001B[39m\n\u001B[32m----> \u001B[39m\u001B[32m1\u001B[39m vec_X2 = \u001B[43mX\u001B[49m\u001B[43m.\u001B[49m\u001B[43mskb\u001B[49m\u001B[43m.\u001B[49m\u001B[43mapply\u001B[49m\u001B[43m(\u001B[49m\u001B[43mvectorizer2\u001B[49m\u001B[43m)\u001B[49m\n",
      "\u001B[36mFile \u001B[39m\u001B[32m~/PycharmProjects/skrubify/.venv/lib/python3.13/site-packages/skrub/_data_ops/_data_ops.py:343\u001B[39m, in \u001B[36mcheck_data_op.<locals>.checked_call\u001B[39m\u001B[34m(*args, **kwargs)\u001B[39m\n\u001B[32m    341\u001B[39m \u001B[38;5;28;01mexcept\u001B[39;00m \u001B[38;5;167;01mException\u001B[39;00m \u001B[38;5;28;01mas\u001B[39;00m e:\n\u001B[32m    342\u001B[39m     msg = \u001B[33m\"\u001B[39m\u001B[38;5;130;01m\\n\u001B[39;00m\u001B[33m\"\u001B[39m.join(_utils.format_exception_only(e)).rstrip(\u001B[33m\"\u001B[39m\u001B[38;5;130;01m\\n\u001B[39;00m\u001B[33m\"\u001B[39m)\n\u001B[32m--> \u001B[39m\u001B[32m343\u001B[39m     \u001B[38;5;28;01mraise\u001B[39;00m \u001B[38;5;167;01mRuntimeError\u001B[39;00m(\n\u001B[32m    344\u001B[39m         \u001B[33mf\u001B[39m\u001B[33m\"\u001B[39m\u001B[33mEvaluation of \u001B[39m\u001B[38;5;132;01m{\u001B[39;00mfunc_name\u001B[38;5;132;01m!r}\u001B[39;00m\u001B[33m failed.\u001B[39m\u001B[38;5;130;01m\\n\u001B[39;00m\u001B[33m\"\u001B[39m\n\u001B[32m    345\u001B[39m         \u001B[33mf\u001B[39m\u001B[33m\"\u001B[39m\u001B[33mYou can see the full traceback above. The error message was:\u001B[39m\u001B[38;5;130;01m\\n\u001B[39;00m\u001B[38;5;132;01m{\u001B[39;00mmsg\u001B[38;5;132;01m}\u001B[39;00m\u001B[33m\"\u001B[39m\n\u001B[32m    346\u001B[39m     ) \u001B[38;5;28;01mfrom\u001B[39;00m\u001B[38;5;250m \u001B[39m\u001B[34;01me\u001B[39;00m\n\u001B[32m    348\u001B[39m \u001B[38;5;28;01mreturn\u001B[39;00m data_op\n",
      "\u001B[31mRuntimeError\u001B[39m: Evaluation of 'apply()' failed.\nYou can see the full traceback above. The error message was:\nValueError: 'specific_transformers' must be a list of (transformer, list of columns) pairs. Got (OrdinalEncoder(), filter_names(<lambda>)) at index 0."
     ]
    }
   ],
   "source": [
    "vec_X2 = X.skb.apply(vectorizer2)"
   ],
   "metadata": {
    "collapsed": false,
    "ExecuteTime": {
     "end_time": "2025-10-01T18:36:56.787100Z",
     "start_time": "2025-10-01T18:36:56.605877Z"
    }
   },
   "id": "e5f244e40b5142f3",
   "execution_count": 46
  },
  {
   "cell_type": "code",
   "outputs": [],
   "source": [],
   "metadata": {
    "collapsed": false
   },
   "id": "19046b26e0b432a6"
  }
 ],
 "metadata": {
  "kernelspec": {
   "display_name": "Python 3",
   "language": "python",
   "name": "python3"
  },
  "language_info": {
   "codemirror_mode": {
    "name": "ipython",
    "version": 2
   },
   "file_extension": ".py",
   "mimetype": "text/x-python",
   "name": "python",
   "nbconvert_exporter": "python",
   "pygments_lexer": "ipython2",
   "version": "2.7.6"
  }
 },
 "nbformat": 4,
 "nbformat_minor": 5
}
